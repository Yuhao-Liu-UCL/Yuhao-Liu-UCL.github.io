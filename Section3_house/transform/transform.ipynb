{
 "metadata": {
  "language_info": {
   "codemirror_mode": {
    "name": "ipython",
    "version": 3
   },
   "file_extension": ".py",
   "mimetype": "text/x-python",
   "name": "python",
   "nbconvert_exporter": "python",
   "pygments_lexer": "ipython3",
   "version": "3.7.8"
  },
  "orig_nbformat": 2,
  "kernelspec": {
   "name": "python378jvsc74a57bd00391ef6756a28bd629ff8642b759337c15d4fb2a805903b5e22542fd66f486c6",
   "display_name": "Python 3.7.8 64-bit"
  }
 },
 "nbformat": 4,
 "nbformat_minor": 2,
 "cells": [
  {
   "cell_type": "code",
   "execution_count": 67,
   "metadata": {},
   "outputs": [],
   "source": [
    "import numpy as np\n",
    "import pandas as pd \n",
    "import geopandas as gpd \n",
    "import matplotlib.pyplot as plt \n",
    "from math import ceil\n",
    "df_crime = pd.read_csv('MPS LSOA Level Crime (most recent 24 months).csv', na_values=[':'], low_memory=False)\n",
    "df_lookup = pd.read_csv('2011 _OA-LSOA-MSOA-LA.csv', na_values=[':'], low_memory=False)"
   ]
  },
  {
   "cell_type": "code",
   "execution_count": 68,
   "metadata": {},
   "outputs": [],
   "source": [
    "crime_column_name=df_crime.columns.values[4:27]"
   ]
  },
  {
   "cell_type": "code",
   "execution_count": 69,
   "metadata": {},
   "outputs": [],
   "source": [
    "crime_sum=df_crime[df_crime.columns.values[-1]]"
   ]
  },
  {
   "cell_type": "code",
   "execution_count": 70,
   "metadata": {},
   "outputs": [],
   "source": [
    "for i in crime_column_name: #add all crime number during latest 2 years.\n",
    "    crime_sum=crime_sum+df_crime[i]"
   ]
  },
  {
   "cell_type": "code",
   "execution_count": 71,
   "metadata": {},
   "outputs": [],
   "source": [
    "df_crime.drop(columns=crime_column_name,inplace=True)\n",
    "df_crime.drop(columns=df_crime.columns.values[-1],inplace=True)"
   ]
  },
  {
   "cell_type": "code",
   "execution_count": 72,
   "metadata": {},
   "outputs": [],
   "source": [
    "df_crime.drop(columns=['Borough','Minor Category'],inplace=True)"
   ]
  },
  {
   "cell_type": "code",
   "execution_count": 73,
   "metadata": {},
   "outputs": [],
   "source": [
    "df_crime['Crime_sum']=crime_sum"
   ]
  },
  {
   "cell_type": "code",
   "execution_count": 40,
   "metadata": {},
   "outputs": [
    {
     "output_type": "execute_result",
     "data": {
      "text/plain": [
       "        LSOA Code               Major Category  Crime_sum\n",
       "0       E01000006    Arson and Criminal Damage          2\n",
       "1       E01000007    Arson and Criminal Damage          1\n",
       "2       E01000008    Arson and Criminal Damage          1\n",
       "3       E01000009    Arson and Criminal Damage          2\n",
       "4       E01000010    Arson and Criminal Damage          3\n",
       "...           ...                          ...        ...\n",
       "103837  E01033604  Violence Against the Person        147\n",
       "103838  E01033605  Violence Against the Person         99\n",
       "103839  E01033606  Violence Against the Person         27\n",
       "103840  E01033607  Violence Against the Person         32\n",
       "103841  E01033608  Violence Against the Person         26\n",
       "\n",
       "[103842 rows x 3 columns]"
      ],
      "text/html": "<div>\n<style scoped>\n    .dataframe tbody tr th:only-of-type {\n        vertical-align: middle;\n    }\n\n    .dataframe tbody tr th {\n        vertical-align: top;\n    }\n\n    .dataframe thead th {\n        text-align: right;\n    }\n</style>\n<table border=\"1\" class=\"dataframe\">\n  <thead>\n    <tr style=\"text-align: right;\">\n      <th></th>\n      <th>LSOA Code</th>\n      <th>Major Category</th>\n      <th>Crime_sum</th>\n    </tr>\n  </thead>\n  <tbody>\n    <tr>\n      <th>0</th>\n      <td>E01000006</td>\n      <td>Arson and Criminal Damage</td>\n      <td>2</td>\n    </tr>\n    <tr>\n      <th>1</th>\n      <td>E01000007</td>\n      <td>Arson and Criminal Damage</td>\n      <td>1</td>\n    </tr>\n    <tr>\n      <th>2</th>\n      <td>E01000008</td>\n      <td>Arson and Criminal Damage</td>\n      <td>1</td>\n    </tr>\n    <tr>\n      <th>3</th>\n      <td>E01000009</td>\n      <td>Arson and Criminal Damage</td>\n      <td>2</td>\n    </tr>\n    <tr>\n      <th>4</th>\n      <td>E01000010</td>\n      <td>Arson and Criminal Damage</td>\n      <td>3</td>\n    </tr>\n    <tr>\n      <th>...</th>\n      <td>...</td>\n      <td>...</td>\n      <td>...</td>\n    </tr>\n    <tr>\n      <th>103837</th>\n      <td>E01033604</td>\n      <td>Violence Against the Person</td>\n      <td>147</td>\n    </tr>\n    <tr>\n      <th>103838</th>\n      <td>E01033605</td>\n      <td>Violence Against the Person</td>\n      <td>99</td>\n    </tr>\n    <tr>\n      <th>103839</th>\n      <td>E01033606</td>\n      <td>Violence Against the Person</td>\n      <td>27</td>\n    </tr>\n    <tr>\n      <th>103840</th>\n      <td>E01033607</td>\n      <td>Violence Against the Person</td>\n      <td>32</td>\n    </tr>\n    <tr>\n      <th>103841</th>\n      <td>E01033608</td>\n      <td>Violence Against the Person</td>\n      <td>26</td>\n    </tr>\n  </tbody>\n</table>\n<p>103842 rows × 3 columns</p>\n</div>"
     },
     "metadata": {},
     "execution_count": 40
    }
   ],
   "source": []
  },
  {
   "cell_type": "code",
   "execution_count": 74,
   "metadata": {},
   "outputs": [],
   "source": [
    "df_lookup.drop(columns=['OA11CD','LSOA11NM','MSOA11NM','LAD11CD','LAD11NM','Inner_Outer'],inplace=True)"
   ]
  },
  {
   "cell_type": "code",
   "execution_count": 75,
   "metadata": {},
   "outputs": [
    {
     "output_type": "execute_result",
     "data": {
      "text/plain": [
       "0        False\n",
       "1         True\n",
       "2         True\n",
       "3         True\n",
       "4        False\n",
       "         ...  \n",
       "25048     True\n",
       "25049     True\n",
       "25050     True\n",
       "25051     True\n",
       "25052     True\n",
       "Length: 25053, dtype: bool"
      ]
     },
     "metadata": {},
     "execution_count": 75
    }
   ],
   "source": [
    "df_lookup.duplicated()"
   ]
  },
  {
   "cell_type": "code",
   "execution_count": 76,
   "metadata": {},
   "outputs": [],
   "source": [
    "df_lookup_no_dupli=df_lookup[~df_lookup.duplicated()]"
   ]
  },
  {
   "cell_type": "code",
   "execution_count": 77,
   "metadata": {},
   "outputs": [
    {
     "output_type": "execute_result",
     "data": {
      "text/plain": [
       "        LSOA11CD   MSOA11CD\n",
       "0      E01000001  E02000001\n",
       "4      E01000003  E02000001\n",
       "8      E01000002  E02000001\n",
       "16     E01032739  E02000001\n",
       "17     E01032740  E02000001\n",
       "...          ...        ...\n",
       "25021  E01001638  E02006931\n",
       "25023  E01001641  E02006931\n",
       "25025  E01001642  E02006931\n",
       "25031  E01033746  E02006931\n",
       "25035  E01001644  E02006931\n",
       "\n",
       "[4835 rows x 2 columns]"
      ],
      "text/html": "<div>\n<style scoped>\n    .dataframe tbody tr th:only-of-type {\n        vertical-align: middle;\n    }\n\n    .dataframe tbody tr th {\n        vertical-align: top;\n    }\n\n    .dataframe thead th {\n        text-align: right;\n    }\n</style>\n<table border=\"1\" class=\"dataframe\">\n  <thead>\n    <tr style=\"text-align: right;\">\n      <th></th>\n      <th>LSOA11CD</th>\n      <th>MSOA11CD</th>\n    </tr>\n  </thead>\n  <tbody>\n    <tr>\n      <th>0</th>\n      <td>E01000001</td>\n      <td>E02000001</td>\n    </tr>\n    <tr>\n      <th>4</th>\n      <td>E01000003</td>\n      <td>E02000001</td>\n    </tr>\n    <tr>\n      <th>8</th>\n      <td>E01000002</td>\n      <td>E02000001</td>\n    </tr>\n    <tr>\n      <th>16</th>\n      <td>E01032739</td>\n      <td>E02000001</td>\n    </tr>\n    <tr>\n      <th>17</th>\n      <td>E01032740</td>\n      <td>E02000001</td>\n    </tr>\n    <tr>\n      <th>...</th>\n      <td>...</td>\n      <td>...</td>\n    </tr>\n    <tr>\n      <th>25021</th>\n      <td>E01001638</td>\n      <td>E02006931</td>\n    </tr>\n    <tr>\n      <th>25023</th>\n      <td>E01001641</td>\n      <td>E02006931</td>\n    </tr>\n    <tr>\n      <th>25025</th>\n      <td>E01001642</td>\n      <td>E02006931</td>\n    </tr>\n    <tr>\n      <th>25031</th>\n      <td>E01033746</td>\n      <td>E02006931</td>\n    </tr>\n    <tr>\n      <th>25035</th>\n      <td>E01001644</td>\n      <td>E02006931</td>\n    </tr>\n  </tbody>\n</table>\n<p>4835 rows × 2 columns</p>\n</div>"
     },
     "metadata": {},
     "execution_count": 77
    }
   ],
   "source": [
    "df_lookup_no_dupli"
   ]
  },
  {
   "cell_type": "code",
   "execution_count": 78,
   "metadata": {},
   "outputs": [],
   "source": [
    "data_merged=pd.merge(left=df_crime,right=df_lookup_no_dupli,how='left',left_on='LSOA Code',right_on='LSOA11CD')"
   ]
  },
  {
   "cell_type": "code",
   "execution_count": 79,
   "metadata": {},
   "outputs": [
    {
     "output_type": "execute_result",
     "data": {
      "text/plain": [
       "        LSOA Code               Major Category  Crime_sum   LSOA11CD  \\\n",
       "0       E01000006    Arson and Criminal Damage          2  E01000006   \n",
       "1       E01000007    Arson and Criminal Damage          1  E01000007   \n",
       "2       E01000008    Arson and Criminal Damage          1  E01000008   \n",
       "3       E01000009    Arson and Criminal Damage          2  E01000009   \n",
       "4       E01000010    Arson and Criminal Damage          3  E01000010   \n",
       "...           ...                          ...        ...        ...   \n",
       "103837  E01033604  Violence Against the Person        147  E01033604   \n",
       "103838  E01033605  Violence Against the Person         99  E01033605   \n",
       "103839  E01033606  Violence Against the Person         27  E01033606   \n",
       "103840  E01033607  Violence Against the Person         32  E01033607   \n",
       "103841  E01033608  Violence Against the Person         26  E01033608   \n",
       "\n",
       "         MSOA11CD  \n",
       "0       E02000017  \n",
       "1       E02000016  \n",
       "2       E02000016  \n",
       "3       E02000017  \n",
       "4       E02000016  \n",
       "...           ...  \n",
       "103837  E02000968  \n",
       "103838  E02000968  \n",
       "103839  E02000973  \n",
       "103840  E02000973  \n",
       "103841  E02000966  \n",
       "\n",
       "[103842 rows x 5 columns]"
      ],
      "text/html": "<div>\n<style scoped>\n    .dataframe tbody tr th:only-of-type {\n        vertical-align: middle;\n    }\n\n    .dataframe tbody tr th {\n        vertical-align: top;\n    }\n\n    .dataframe thead th {\n        text-align: right;\n    }\n</style>\n<table border=\"1\" class=\"dataframe\">\n  <thead>\n    <tr style=\"text-align: right;\">\n      <th></th>\n      <th>LSOA Code</th>\n      <th>Major Category</th>\n      <th>Crime_sum</th>\n      <th>LSOA11CD</th>\n      <th>MSOA11CD</th>\n    </tr>\n  </thead>\n  <tbody>\n    <tr>\n      <th>0</th>\n      <td>E01000006</td>\n      <td>Arson and Criminal Damage</td>\n      <td>2</td>\n      <td>E01000006</td>\n      <td>E02000017</td>\n    </tr>\n    <tr>\n      <th>1</th>\n      <td>E01000007</td>\n      <td>Arson and Criminal Damage</td>\n      <td>1</td>\n      <td>E01000007</td>\n      <td>E02000016</td>\n    </tr>\n    <tr>\n      <th>2</th>\n      <td>E01000008</td>\n      <td>Arson and Criminal Damage</td>\n      <td>1</td>\n      <td>E01000008</td>\n      <td>E02000016</td>\n    </tr>\n    <tr>\n      <th>3</th>\n      <td>E01000009</td>\n      <td>Arson and Criminal Damage</td>\n      <td>2</td>\n      <td>E01000009</td>\n      <td>E02000017</td>\n    </tr>\n    <tr>\n      <th>4</th>\n      <td>E01000010</td>\n      <td>Arson and Criminal Damage</td>\n      <td>3</td>\n      <td>E01000010</td>\n      <td>E02000016</td>\n    </tr>\n    <tr>\n      <th>...</th>\n      <td>...</td>\n      <td>...</td>\n      <td>...</td>\n      <td>...</td>\n      <td>...</td>\n    </tr>\n    <tr>\n      <th>103837</th>\n      <td>E01033604</td>\n      <td>Violence Against the Person</td>\n      <td>147</td>\n      <td>E01033604</td>\n      <td>E02000968</td>\n    </tr>\n    <tr>\n      <th>103838</th>\n      <td>E01033605</td>\n      <td>Violence Against the Person</td>\n      <td>99</td>\n      <td>E01033605</td>\n      <td>E02000968</td>\n    </tr>\n    <tr>\n      <th>103839</th>\n      <td>E01033606</td>\n      <td>Violence Against the Person</td>\n      <td>27</td>\n      <td>E01033606</td>\n      <td>E02000973</td>\n    </tr>\n    <tr>\n      <th>103840</th>\n      <td>E01033607</td>\n      <td>Violence Against the Person</td>\n      <td>32</td>\n      <td>E01033607</td>\n      <td>E02000973</td>\n    </tr>\n    <tr>\n      <th>103841</th>\n      <td>E01033608</td>\n      <td>Violence Against the Person</td>\n      <td>26</td>\n      <td>E01033608</td>\n      <td>E02000966</td>\n    </tr>\n  </tbody>\n</table>\n<p>103842 rows × 5 columns</p>\n</div>"
     },
     "metadata": {},
     "execution_count": 79
    }
   ],
   "source": [
    "data_merged"
   ]
  },
  {
   "cell_type": "code",
   "execution_count": 80,
   "metadata": {},
   "outputs": [],
   "source": [
    "group=data_merged.groupby(['MSOA11CD','Major Category'])"
   ]
  },
  {
   "cell_type": "code",
   "execution_count": 81,
   "metadata": {},
   "outputs": [],
   "source": [
    "data_group=group['Crime_sum'].agg(['sum','mean'])"
   ]
  },
  {
   "cell_type": "code",
   "execution_count": 82,
   "metadata": {},
   "outputs": [
    {
     "output_type": "execute_result",
     "data": {
      "text/plain": [
       "                                                sum       mean\n",
       "MSOA11CD  Major Category                                      \n",
       "E02000002 Arson and Criminal Damage             127  21.166667\n",
       "          Burglary                              102  14.571429\n",
       "          Drug Offences                          39   5.571429\n",
       "          Miscellaneous Crimes Against Society   22   1.466667\n",
       "          Possession of Weapons                   8   1.600000\n",
       "...                                             ...        ...\n",
       "E02006931 Public Order Offences                 148  11.384615\n",
       "          Robbery                               128  14.222222\n",
       "          Theft                                 611  30.550000\n",
       "          Vehicle Offences                      232  13.647059\n",
       "          Violence Against the Person           483  43.909091\n",
       "\n",
       "[9812 rows x 2 columns]"
      ],
      "text/html": "<div>\n<style scoped>\n    .dataframe tbody tr th:only-of-type {\n        vertical-align: middle;\n    }\n\n    .dataframe tbody tr th {\n        vertical-align: top;\n    }\n\n    .dataframe thead th {\n        text-align: right;\n    }\n</style>\n<table border=\"1\" class=\"dataframe\">\n  <thead>\n    <tr style=\"text-align: right;\">\n      <th></th>\n      <th></th>\n      <th>sum</th>\n      <th>mean</th>\n    </tr>\n    <tr>\n      <th>MSOA11CD</th>\n      <th>Major Category</th>\n      <th></th>\n      <th></th>\n    </tr>\n  </thead>\n  <tbody>\n    <tr>\n      <th rowspan=\"5\" valign=\"top\">E02000002</th>\n      <th>Arson and Criminal Damage</th>\n      <td>127</td>\n      <td>21.166667</td>\n    </tr>\n    <tr>\n      <th>Burglary</th>\n      <td>102</td>\n      <td>14.571429</td>\n    </tr>\n    <tr>\n      <th>Drug Offences</th>\n      <td>39</td>\n      <td>5.571429</td>\n    </tr>\n    <tr>\n      <th>Miscellaneous Crimes Against Society</th>\n      <td>22</td>\n      <td>1.466667</td>\n    </tr>\n    <tr>\n      <th>Possession of Weapons</th>\n      <td>8</td>\n      <td>1.600000</td>\n    </tr>\n    <tr>\n      <th>...</th>\n      <th>...</th>\n      <td>...</td>\n      <td>...</td>\n    </tr>\n    <tr>\n      <th rowspan=\"5\" valign=\"top\">E02006931</th>\n      <th>Public Order Offences</th>\n      <td>148</td>\n      <td>11.384615</td>\n    </tr>\n    <tr>\n      <th>Robbery</th>\n      <td>128</td>\n      <td>14.222222</td>\n    </tr>\n    <tr>\n      <th>Theft</th>\n      <td>611</td>\n      <td>30.550000</td>\n    </tr>\n    <tr>\n      <th>Vehicle Offences</th>\n      <td>232</td>\n      <td>13.647059</td>\n    </tr>\n    <tr>\n      <th>Violence Against the Person</th>\n      <td>483</td>\n      <td>43.909091</td>\n    </tr>\n  </tbody>\n</table>\n<p>9812 rows × 2 columns</p>\n</div>"
     },
     "metadata": {},
     "execution_count": 82
    }
   ],
   "source": [
    "data_group"
   ]
  },
  {
   "cell_type": "code",
   "execution_count": 83,
   "metadata": {},
   "outputs": [],
   "source": [
    "data_pivot=pd.pivot_table(data_merged,index='MSOA11CD',columns='Major Category',aggfunc='sum')"
   ]
  },
  {
   "cell_type": "code",
   "execution_count": 84,
   "metadata": {},
   "outputs": [],
   "source": [
    "#data_pivot=data_pivot.reset_index()"
   ]
  },
  {
   "cell_type": "code",
   "execution_count": 85,
   "metadata": {},
   "outputs": [],
   "source": [
    "data_pivot.columns=data_pivot.columns.droplevel(0)"
   ]
  },
  {
   "cell_type": "code",
   "execution_count": 86,
   "metadata": {},
   "outputs": [],
   "source": [
    "data_pivot.fillna(0,inplace=True)"
   ]
  },
  {
   "cell_type": "code",
   "execution_count": 87,
   "metadata": {},
   "outputs": [
    {
     "output_type": "execute_result",
     "data": {
      "text/plain": [
       "array(['Arson and Criminal Damage', 'Burglary', 'Drug Offences',\n",
       "       'Miscellaneous Crimes Against Society', 'Possession of Weapons',\n",
       "       'Public Order Offences', 'Robbery', 'Theft', 'Vehicle Offences',\n",
       "       'Violence Against the Person'], dtype=object)"
      ]
     },
     "metadata": {},
     "execution_count": 87
    }
   ],
   "source": [
    "data_pivot.columns.values"
   ]
  },
  {
   "cell_type": "code",
   "execution_count": 88,
   "metadata": {},
   "outputs": [
    {
     "output_type": "stream",
     "name": "stdout",
     "text": [
      "(262461, 5)\n",
      "(983, 5)\n",
      "(983, 5)\n",
      "(983, 5)\n",
      "(983, 5)\n",
      "(983, 5)\n",
      "(983, 5)\n",
      "(983, 5)\n"
     ]
    }
   ],
   "source": [
    "#housing prices data by MSOA\n",
    "gdf = gpd.read_file(f\"zip://statistical-gis-boundaries-london.zip!statistical-gis-boundaries-london/ESRI/MSOA_2011_London_gen_MHW.shp\")\n",
    "df = pd.read_csv('https://data.london.gov.uk/download/average-house-prices/bdf8eee7-41e1-4d24-90ce-93fe5cf040ae/land-registry-house-prices-MSOA.csv', na_values=[':'], low_memory=False)\n",
    "print(df.shape)\n",
    "measure = 'Mean'\n",
    "df_years=[]\n",
    "for year in range(2011,2018):\n",
    "    df_temp = df[(df.Year==f'Year ending Dec {year}') & (df.Measure==measure)].copy().reset_index()\n",
    "    df_temp.drop(index=df_temp[df_temp.Value.isna()].index, inplace=True)\n",
    "    df_temp['Measure'] = df_temp.Measure.astype('category')\n",
    "    df_temp['Value'] = df_temp.Value.astype('int')\n",
    "    df_temp.drop(columns=['index'],inplace=True)\n",
    "    print(df_temp.shape)\n",
    "    \n",
    "    column_name=list(df_temp.columns.values)\n",
    "    column_name[4]=f'Value{year}'\n",
    "    df_temp.columns=np.array(column_name)\n",
    "    \n",
    "    df_years.append(df_temp)\n"
   ]
  },
  {
   "cell_type": "code",
   "execution_count": 89,
   "metadata": {},
   "outputs": [
    {
     "output_type": "execute_result",
     "data": {
      "text/plain": [
       "          Code                      Area                  Year Measure  \\\n",
       "0    E02000001        City of London 001  Year ending Dec 2017    Mean   \n",
       "1    E02000002  Barking and Dagenham 001  Year ending Dec 2017    Mean   \n",
       "2    E02000003  Barking and Dagenham 002  Year ending Dec 2017    Mean   \n",
       "3    E02000004  Barking and Dagenham 003  Year ending Dec 2017    Mean   \n",
       "4    E02000005  Barking and Dagenham 004  Year ending Dec 2017    Mean   \n",
       "..         ...                       ...                   ...     ...   \n",
       "978  E02000979           Westminster 020  Year ending Dec 2017    Mean   \n",
       "979  E02000980           Westminster 021  Year ending Dec 2017    Mean   \n",
       "980  E02000981           Westminster 022  Year ending Dec 2017    Mean   \n",
       "981  E02000982           Westminster 023  Year ending Dec 2017    Mean   \n",
       "982  E02000983           Westminster 024  Year ending Dec 2017    Mean   \n",
       "\n",
       "     Value2017  \n",
       "0       950760  \n",
       "1       296691  \n",
       "2       320546  \n",
       "3       333292  \n",
       "4       323039  \n",
       "..         ...  \n",
       "978    1545453  \n",
       "979    1329539  \n",
       "980     966280  \n",
       "981    1059011  \n",
       "982     951300  \n",
       "\n",
       "[983 rows x 5 columns]"
      ],
      "text/html": "<div>\n<style scoped>\n    .dataframe tbody tr th:only-of-type {\n        vertical-align: middle;\n    }\n\n    .dataframe tbody tr th {\n        vertical-align: top;\n    }\n\n    .dataframe thead th {\n        text-align: right;\n    }\n</style>\n<table border=\"1\" class=\"dataframe\">\n  <thead>\n    <tr style=\"text-align: right;\">\n      <th></th>\n      <th>Code</th>\n      <th>Area</th>\n      <th>Year</th>\n      <th>Measure</th>\n      <th>Value2017</th>\n    </tr>\n  </thead>\n  <tbody>\n    <tr>\n      <th>0</th>\n      <td>E02000001</td>\n      <td>City of London 001</td>\n      <td>Year ending Dec 2017</td>\n      <td>Mean</td>\n      <td>950760</td>\n    </tr>\n    <tr>\n      <th>1</th>\n      <td>E02000002</td>\n      <td>Barking and Dagenham 001</td>\n      <td>Year ending Dec 2017</td>\n      <td>Mean</td>\n      <td>296691</td>\n    </tr>\n    <tr>\n      <th>2</th>\n      <td>E02000003</td>\n      <td>Barking and Dagenham 002</td>\n      <td>Year ending Dec 2017</td>\n      <td>Mean</td>\n      <td>320546</td>\n    </tr>\n    <tr>\n      <th>3</th>\n      <td>E02000004</td>\n      <td>Barking and Dagenham 003</td>\n      <td>Year ending Dec 2017</td>\n      <td>Mean</td>\n      <td>333292</td>\n    </tr>\n    <tr>\n      <th>4</th>\n      <td>E02000005</td>\n      <td>Barking and Dagenham 004</td>\n      <td>Year ending Dec 2017</td>\n      <td>Mean</td>\n      <td>323039</td>\n    </tr>\n    <tr>\n      <th>...</th>\n      <td>...</td>\n      <td>...</td>\n      <td>...</td>\n      <td>...</td>\n      <td>...</td>\n    </tr>\n    <tr>\n      <th>978</th>\n      <td>E02000979</td>\n      <td>Westminster 020</td>\n      <td>Year ending Dec 2017</td>\n      <td>Mean</td>\n      <td>1545453</td>\n    </tr>\n    <tr>\n      <th>979</th>\n      <td>E02000980</td>\n      <td>Westminster 021</td>\n      <td>Year ending Dec 2017</td>\n      <td>Mean</td>\n      <td>1329539</td>\n    </tr>\n    <tr>\n      <th>980</th>\n      <td>E02000981</td>\n      <td>Westminster 022</td>\n      <td>Year ending Dec 2017</td>\n      <td>Mean</td>\n      <td>966280</td>\n    </tr>\n    <tr>\n      <th>981</th>\n      <td>E02000982</td>\n      <td>Westminster 023</td>\n      <td>Year ending Dec 2017</td>\n      <td>Mean</td>\n      <td>1059011</td>\n    </tr>\n    <tr>\n      <th>982</th>\n      <td>E02000983</td>\n      <td>Westminster 024</td>\n      <td>Year ending Dec 2017</td>\n      <td>Mean</td>\n      <td>951300</td>\n    </tr>\n  </tbody>\n</table>\n<p>983 rows × 5 columns</p>\n</div>"
     },
     "metadata": {},
     "execution_count": 89
    }
   ],
   "source": [
    "df_years[6]"
   ]
  },
  {
   "cell_type": "code",
   "execution_count": 90,
   "metadata": {},
   "outputs": [
    {
     "output_type": "stream",
     "name": "stdout",
     "text": [
      "2\n3\n4\n5\n6\n"
     ]
    }
   ],
   "source": [
    "for m in range(2,7):\n",
    "    print(m)"
   ]
  },
  {
   "cell_type": "code",
   "execution_count": 91,
   "metadata": {},
   "outputs": [],
   "source": [
    "df_merge=pd.merge(df_years[0],df_years[1],left_on='Code',right_on='Code',how='inner')\n",
    "for i in range(2,7):\n",
    "    df_merge=pd.merge(df_merge,df_years[i],left_on='Code',right_on='Code',how='inner')"
   ]
  },
  {
   "cell_type": "code",
   "execution_count": 92,
   "metadata": {},
   "outputs": [],
   "source": [
    "df_merge.reset_index(inplace=True)"
   ]
  },
  {
   "cell_type": "code",
   "execution_count": 93,
   "metadata": {},
   "outputs": [
    {
     "output_type": "execute_result",
     "data": {
      "text/plain": [
       "     index       Code  Value2011  Value2012  Value2013  Value2014  Value2015  \\\n",
       "0        0  E02000001     541192     537160     775504     894046     926292   \n",
       "1        1  E02000002     191618     189744     189936     218348     248572   \n",
       "2        2  E02000003     193483     195934     206912     233599     263405   \n",
       "3        3  E02000004     195785     204150     206944     239080     274326   \n",
       "4        4  E02000005     168656     165630     183049     222851     256392   \n",
       "..     ...        ...        ...        ...        ...        ...        ...   \n",
       "978    978  E02000979    1035122    1176059    1058993    1442447    1443883   \n",
       "979    979  E02000980     636388     691133     793470     868984    1080080   \n",
       "980    980  E02000981     814260     808404     882129    1003818    1042377   \n",
       "981    981  E02000982     827082    1068366    1204611    2328898    1470763   \n",
       "982    982  E02000983     703038     695910     636234     905700     820642   \n",
       "\n",
       "     Value2016                      Area  Value2017  \n",
       "0       928037        City of London 001     950760  \n",
       "1       283701  Barking and Dagenham 001     296691  \n",
       "2       286872  Barking and Dagenham 002     320546  \n",
       "3       335301  Barking and Dagenham 003     333292  \n",
       "4       315574  Barking and Dagenham 004     323039  \n",
       "..         ...                       ...        ...  \n",
       "978    1486409           Westminster 020    1545453  \n",
       "979    1865278           Westminster 021    1329539  \n",
       "980    1017398           Westminster 022     966280  \n",
       "981    1336629           Westminster 023    1059011  \n",
       "982     952081           Westminster 024     951300  \n",
       "\n",
       "[983 rows x 10 columns]"
      ],
      "text/html": "<div>\n<style scoped>\n    .dataframe tbody tr th:only-of-type {\n        vertical-align: middle;\n    }\n\n    .dataframe tbody tr th {\n        vertical-align: top;\n    }\n\n    .dataframe thead th {\n        text-align: right;\n    }\n</style>\n<table border=\"1\" class=\"dataframe\">\n  <thead>\n    <tr style=\"text-align: right;\">\n      <th></th>\n      <th>index</th>\n      <th>Code</th>\n      <th>Value2011</th>\n      <th>Value2012</th>\n      <th>Value2013</th>\n      <th>Value2014</th>\n      <th>Value2015</th>\n      <th>Value2016</th>\n      <th>Area</th>\n      <th>Value2017</th>\n    </tr>\n  </thead>\n  <tbody>\n    <tr>\n      <th>0</th>\n      <td>0</td>\n      <td>E02000001</td>\n      <td>541192</td>\n      <td>537160</td>\n      <td>775504</td>\n      <td>894046</td>\n      <td>926292</td>\n      <td>928037</td>\n      <td>City of London 001</td>\n      <td>950760</td>\n    </tr>\n    <tr>\n      <th>1</th>\n      <td>1</td>\n      <td>E02000002</td>\n      <td>191618</td>\n      <td>189744</td>\n      <td>189936</td>\n      <td>218348</td>\n      <td>248572</td>\n      <td>283701</td>\n      <td>Barking and Dagenham 001</td>\n      <td>296691</td>\n    </tr>\n    <tr>\n      <th>2</th>\n      <td>2</td>\n      <td>E02000003</td>\n      <td>193483</td>\n      <td>195934</td>\n      <td>206912</td>\n      <td>233599</td>\n      <td>263405</td>\n      <td>286872</td>\n      <td>Barking and Dagenham 002</td>\n      <td>320546</td>\n    </tr>\n    <tr>\n      <th>3</th>\n      <td>3</td>\n      <td>E02000004</td>\n      <td>195785</td>\n      <td>204150</td>\n      <td>206944</td>\n      <td>239080</td>\n      <td>274326</td>\n      <td>335301</td>\n      <td>Barking and Dagenham 003</td>\n      <td>333292</td>\n    </tr>\n    <tr>\n      <th>4</th>\n      <td>4</td>\n      <td>E02000005</td>\n      <td>168656</td>\n      <td>165630</td>\n      <td>183049</td>\n      <td>222851</td>\n      <td>256392</td>\n      <td>315574</td>\n      <td>Barking and Dagenham 004</td>\n      <td>323039</td>\n    </tr>\n    <tr>\n      <th>...</th>\n      <td>...</td>\n      <td>...</td>\n      <td>...</td>\n      <td>...</td>\n      <td>...</td>\n      <td>...</td>\n      <td>...</td>\n      <td>...</td>\n      <td>...</td>\n      <td>...</td>\n    </tr>\n    <tr>\n      <th>978</th>\n      <td>978</td>\n      <td>E02000979</td>\n      <td>1035122</td>\n      <td>1176059</td>\n      <td>1058993</td>\n      <td>1442447</td>\n      <td>1443883</td>\n      <td>1486409</td>\n      <td>Westminster 020</td>\n      <td>1545453</td>\n    </tr>\n    <tr>\n      <th>979</th>\n      <td>979</td>\n      <td>E02000980</td>\n      <td>636388</td>\n      <td>691133</td>\n      <td>793470</td>\n      <td>868984</td>\n      <td>1080080</td>\n      <td>1865278</td>\n      <td>Westminster 021</td>\n      <td>1329539</td>\n    </tr>\n    <tr>\n      <th>980</th>\n      <td>980</td>\n      <td>E02000981</td>\n      <td>814260</td>\n      <td>808404</td>\n      <td>882129</td>\n      <td>1003818</td>\n      <td>1042377</td>\n      <td>1017398</td>\n      <td>Westminster 022</td>\n      <td>966280</td>\n    </tr>\n    <tr>\n      <th>981</th>\n      <td>981</td>\n      <td>E02000982</td>\n      <td>827082</td>\n      <td>1068366</td>\n      <td>1204611</td>\n      <td>2328898</td>\n      <td>1470763</td>\n      <td>1336629</td>\n      <td>Westminster 023</td>\n      <td>1059011</td>\n    </tr>\n    <tr>\n      <th>982</th>\n      <td>982</td>\n      <td>E02000983</td>\n      <td>703038</td>\n      <td>695910</td>\n      <td>636234</td>\n      <td>905700</td>\n      <td>820642</td>\n      <td>952081</td>\n      <td>Westminster 024</td>\n      <td>951300</td>\n    </tr>\n  </tbody>\n</table>\n<p>983 rows × 10 columns</p>\n</div>"
     },
     "metadata": {},
     "execution_count": 93
    }
   ],
   "source": [
    "df_merge.drop(columns=['Area_x','Year_x','Measure_x','Measure','Year','Area_y','Year_y','Measure_y'],inplace=True)\n",
    "df_merge"
   ]
  },
  {
   "cell_type": "code",
   "execution_count": 94,
   "metadata": {},
   "outputs": [],
   "source": [
    "#merge housing price and crime number\n",
    "merge_crime_housing=pd.merge(left=df_merge,right=data_pivot,how='left',left_on='Code',right_on='MSOA11CD')"
   ]
  },
  {
   "cell_type": "code",
   "execution_count": 95,
   "metadata": {},
   "outputs": [],
   "source": [
    "merge_crime_housing.fillna(0,inplace=True)"
   ]
  },
  {
   "cell_type": "code",
   "execution_count": 96,
   "metadata": {},
   "outputs": [],
   "source": [
    "for i in data_pivot.columns.values:\n",
    "    merge_crime_housing[i]=merge_crime_housing[i].astype(int)"
   ]
  },
  {
   "cell_type": "code",
   "execution_count": 97,
   "metadata": {},
   "outputs": [
    {
     "output_type": "stream",
     "name": "stdout",
     "text": [
      "<class 'pandas.core.frame.DataFrame'>\nInt64Index: 983 entries, 0 to 982\nData columns (total 20 columns):\n #   Column                                Non-Null Count  Dtype \n---  ------                                --------------  ----- \n 0   index                                 983 non-null    int64 \n 1   Code                                  983 non-null    object\n 2   Value2011                             983 non-null    int32 \n 3   Value2012                             983 non-null    int32 \n 4   Value2013                             983 non-null    int32 \n 5   Value2014                             983 non-null    int32 \n 6   Value2015                             983 non-null    int32 \n 7   Value2016                             983 non-null    int32 \n 8   Area                                  983 non-null    object\n 9   Value2017                             983 non-null    int32 \n 10  Arson and Criminal Damage             983 non-null    int32 \n 11  Burglary                              983 non-null    int32 \n 12  Drug Offences                         983 non-null    int32 \n 13  Miscellaneous Crimes Against Society  983 non-null    int32 \n 14  Possession of Weapons                 983 non-null    int32 \n 15  Public Order Offences                 983 non-null    int32 \n 16  Robbery                               983 non-null    int32 \n 17  Theft                                 983 non-null    int32 \n 18  Vehicle Offences                      983 non-null    int32 \n 19  Violence Against the Person           983 non-null    int32 \ndtypes: int32(17), int64(1), object(2)\nmemory usage: 96.0+ KB\n"
     ]
    }
   ],
   "source": [
    "merge_crime_housing.info()"
   ]
  },
  {
   "cell_type": "code",
   "execution_count": 98,
   "metadata": {},
   "outputs": [
    {
     "output_type": "stream",
     "name": "stdout",
     "text": [
      "(983, 23)\n"
     ]
    }
   ],
   "source": [
    "ppd = pd.merge(gdf[['MSOA11CD','geometry']], merge_crime_housing, left_on='MSOA11CD', right_on='Code', how='inner').reset_index()\n",
    "print(ppd.shape)"
   ]
  },
  {
   "cell_type": "code",
   "execution_count": 99,
   "metadata": {},
   "outputs": [],
   "source": [
    "ppd.drop(columns=['level_0','index','MSOA11CD'],inplace=True)"
   ]
  },
  {
   "cell_type": "code",
   "execution_count": 100,
   "metadata": {},
   "outputs": [
    {
     "output_type": "execute_result",
     "data": {
      "text/plain": [
       "                                              geometry       Code  Value2011  \\\n",
       "0    MULTIPOLYGON (((531667.624 180534.992, 531647....  E02000001     541192   \n",
       "1    POLYGON ((548881.563 190845.265, 548881.125 19...  E02000002     191618   \n",
       "2    POLYGON ((549102.438 189324.625, 548954.500 18...  E02000003     193483   \n",
       "3    POLYGON ((551549.998 187364.637, 551478.000 18...  E02000004     195785   \n",
       "4    POLYGON ((549099.634 187656.076, 549161.375 18...  E02000005     168656   \n",
       "..                                                 ...        ...        ...   \n",
       "978  POLYGON ((541029.881 176265.023, 541101.997 17...  E02006927     382473   \n",
       "979  MULTIPOLYGON (((538300.370 177956.632, 538290....  E02006928     313753   \n",
       "980  POLYGON ((540054.366 179353.136, 540220.352 17...  E02006929     310388   \n",
       "981  POLYGON ((539552.478 178604.042, 539533.000 17...  E02006930     396548   \n",
       "982  POLYGON ((538834.754 177736.770, 538880.250 17...  E02006931     534018   \n",
       "\n",
       "     Value2012  Value2013  Value2014  Value2015  Value2016  \\\n",
       "0       537160     775504     894046     926292     928037   \n",
       "1       189744     189936     218348     248572     283701   \n",
       "2       195934     206912     233599     263405     286872   \n",
       "3       204150     206944     239080     274326     335301   \n",
       "4       165630     183049     222851     256392     315574   \n",
       "..         ...        ...        ...        ...        ...   \n",
       "978     323093     384225     459465     468814     504756   \n",
       "979     307449     433378     462623     483581     494008   \n",
       "980     343855     355856     477567     422423     496217   \n",
       "981     403596     421069     386279     491540     581988   \n",
       "982     448321     543252     596664     681492     678250   \n",
       "\n",
       "                         Area  Value2017  Arson and Criminal Damage  Burglary  \\\n",
       "0          City of London 001     950760                          0         0   \n",
       "1    Barking and Dagenham 001     296691                        127       102   \n",
       "2    Barking and Dagenham 002     320546                        157       158   \n",
       "3    Barking and Dagenham 003     333292                         53        43   \n",
       "4    Barking and Dagenham 004     323039                        119       115   \n",
       "..                        ...        ...                        ...       ...   \n",
       "978             Greenwich 034     497229                         90       175   \n",
       "979             Greenwich 035     491609                        150       225   \n",
       "980             Greenwich 036     548934                        289       313   \n",
       "981             Greenwich 037     513752                        129       170   \n",
       "982             Greenwich 038     643837                        158       163   \n",
       "\n",
       "     Drug Offences  Miscellaneous Crimes Against Society  \\\n",
       "0                0                                     0   \n",
       "1               39                                    22   \n",
       "2              117                                    30   \n",
       "3               50                                    18   \n",
       "4               44                                    22   \n",
       "..             ...                                   ...   \n",
       "978             59                                    17   \n",
       "979            106                                    19   \n",
       "980            296                                    40   \n",
       "981             93                                    23   \n",
       "982            124                                    20   \n",
       "\n",
       "     Possession of Weapons  Public Order Offences  Robbery  Theft  \\\n",
       "0                        0                      0        0      0   \n",
       "1                        8                     91       39    127   \n",
       "2                       18                    123       96    301   \n",
       "3                        9                     48       22     85   \n",
       "4                        8                    109       62    158   \n",
       "..                     ...                    ...      ...    ...   \n",
       "978                     17                    110       68    170   \n",
       "979                     11                    146      108    569   \n",
       "980                     30                    255      150   1343   \n",
       "981                     12                    167       62    580   \n",
       "982                     14                    148      128    611   \n",
       "\n",
       "     Vehicle Offences  Violence Against the Person  \n",
       "0                   0                            0  \n",
       "1                 209                          481  \n",
       "2                 306                          579  \n",
       "3                  84                          245  \n",
       "4                 177                          485  \n",
       "..                ...                          ...  \n",
       "978               296                          456  \n",
       "979               169                          672  \n",
       "980               614                          995  \n",
       "981               296                          494  \n",
       "982               232                          483  \n",
       "\n",
       "[983 rows x 20 columns]"
      ],
      "text/html": "<div>\n<style scoped>\n    .dataframe tbody tr th:only-of-type {\n        vertical-align: middle;\n    }\n\n    .dataframe tbody tr th {\n        vertical-align: top;\n    }\n\n    .dataframe thead th {\n        text-align: right;\n    }\n</style>\n<table border=\"1\" class=\"dataframe\">\n  <thead>\n    <tr style=\"text-align: right;\">\n      <th></th>\n      <th>geometry</th>\n      <th>Code</th>\n      <th>Value2011</th>\n      <th>Value2012</th>\n      <th>Value2013</th>\n      <th>Value2014</th>\n      <th>Value2015</th>\n      <th>Value2016</th>\n      <th>Area</th>\n      <th>Value2017</th>\n      <th>Arson and Criminal Damage</th>\n      <th>Burglary</th>\n      <th>Drug Offences</th>\n      <th>Miscellaneous Crimes Against Society</th>\n      <th>Possession of Weapons</th>\n      <th>Public Order Offences</th>\n      <th>Robbery</th>\n      <th>Theft</th>\n      <th>Vehicle Offences</th>\n      <th>Violence Against the Person</th>\n    </tr>\n  </thead>\n  <tbody>\n    <tr>\n      <th>0</th>\n      <td>MULTIPOLYGON (((531667.624 180534.992, 531647....</td>\n      <td>E02000001</td>\n      <td>541192</td>\n      <td>537160</td>\n      <td>775504</td>\n      <td>894046</td>\n      <td>926292</td>\n      <td>928037</td>\n      <td>City of London 001</td>\n      <td>950760</td>\n      <td>0</td>\n      <td>0</td>\n      <td>0</td>\n      <td>0</td>\n      <td>0</td>\n      <td>0</td>\n      <td>0</td>\n      <td>0</td>\n      <td>0</td>\n      <td>0</td>\n    </tr>\n    <tr>\n      <th>1</th>\n      <td>POLYGON ((548881.563 190845.265, 548881.125 19...</td>\n      <td>E02000002</td>\n      <td>191618</td>\n      <td>189744</td>\n      <td>189936</td>\n      <td>218348</td>\n      <td>248572</td>\n      <td>283701</td>\n      <td>Barking and Dagenham 001</td>\n      <td>296691</td>\n      <td>127</td>\n      <td>102</td>\n      <td>39</td>\n      <td>22</td>\n      <td>8</td>\n      <td>91</td>\n      <td>39</td>\n      <td>127</td>\n      <td>209</td>\n      <td>481</td>\n    </tr>\n    <tr>\n      <th>2</th>\n      <td>POLYGON ((549102.438 189324.625, 548954.500 18...</td>\n      <td>E02000003</td>\n      <td>193483</td>\n      <td>195934</td>\n      <td>206912</td>\n      <td>233599</td>\n      <td>263405</td>\n      <td>286872</td>\n      <td>Barking and Dagenham 002</td>\n      <td>320546</td>\n      <td>157</td>\n      <td>158</td>\n      <td>117</td>\n      <td>30</td>\n      <td>18</td>\n      <td>123</td>\n      <td>96</td>\n      <td>301</td>\n      <td>306</td>\n      <td>579</td>\n    </tr>\n    <tr>\n      <th>3</th>\n      <td>POLYGON ((551549.998 187364.637, 551478.000 18...</td>\n      <td>E02000004</td>\n      <td>195785</td>\n      <td>204150</td>\n      <td>206944</td>\n      <td>239080</td>\n      <td>274326</td>\n      <td>335301</td>\n      <td>Barking and Dagenham 003</td>\n      <td>333292</td>\n      <td>53</td>\n      <td>43</td>\n      <td>50</td>\n      <td>18</td>\n      <td>9</td>\n      <td>48</td>\n      <td>22</td>\n      <td>85</td>\n      <td>84</td>\n      <td>245</td>\n    </tr>\n    <tr>\n      <th>4</th>\n      <td>POLYGON ((549099.634 187656.076, 549161.375 18...</td>\n      <td>E02000005</td>\n      <td>168656</td>\n      <td>165630</td>\n      <td>183049</td>\n      <td>222851</td>\n      <td>256392</td>\n      <td>315574</td>\n      <td>Barking and Dagenham 004</td>\n      <td>323039</td>\n      <td>119</td>\n      <td>115</td>\n      <td>44</td>\n      <td>22</td>\n      <td>8</td>\n      <td>109</td>\n      <td>62</td>\n      <td>158</td>\n      <td>177</td>\n      <td>485</td>\n    </tr>\n    <tr>\n      <th>...</th>\n      <td>...</td>\n      <td>...</td>\n      <td>...</td>\n      <td>...</td>\n      <td>...</td>\n      <td>...</td>\n      <td>...</td>\n      <td>...</td>\n      <td>...</td>\n      <td>...</td>\n      <td>...</td>\n      <td>...</td>\n      <td>...</td>\n      <td>...</td>\n      <td>...</td>\n      <td>...</td>\n      <td>...</td>\n      <td>...</td>\n      <td>...</td>\n      <td>...</td>\n    </tr>\n    <tr>\n      <th>978</th>\n      <td>POLYGON ((541029.881 176265.023, 541101.997 17...</td>\n      <td>E02006927</td>\n      <td>382473</td>\n      <td>323093</td>\n      <td>384225</td>\n      <td>459465</td>\n      <td>468814</td>\n      <td>504756</td>\n      <td>Greenwich 034</td>\n      <td>497229</td>\n      <td>90</td>\n      <td>175</td>\n      <td>59</td>\n      <td>17</td>\n      <td>17</td>\n      <td>110</td>\n      <td>68</td>\n      <td>170</td>\n      <td>296</td>\n      <td>456</td>\n    </tr>\n    <tr>\n      <th>979</th>\n      <td>MULTIPOLYGON (((538300.370 177956.632, 538290....</td>\n      <td>E02006928</td>\n      <td>313753</td>\n      <td>307449</td>\n      <td>433378</td>\n      <td>462623</td>\n      <td>483581</td>\n      <td>494008</td>\n      <td>Greenwich 035</td>\n      <td>491609</td>\n      <td>150</td>\n      <td>225</td>\n      <td>106</td>\n      <td>19</td>\n      <td>11</td>\n      <td>146</td>\n      <td>108</td>\n      <td>569</td>\n      <td>169</td>\n      <td>672</td>\n    </tr>\n    <tr>\n      <th>980</th>\n      <td>POLYGON ((540054.366 179353.136, 540220.352 17...</td>\n      <td>E02006929</td>\n      <td>310388</td>\n      <td>343855</td>\n      <td>355856</td>\n      <td>477567</td>\n      <td>422423</td>\n      <td>496217</td>\n      <td>Greenwich 036</td>\n      <td>548934</td>\n      <td>289</td>\n      <td>313</td>\n      <td>296</td>\n      <td>40</td>\n      <td>30</td>\n      <td>255</td>\n      <td>150</td>\n      <td>1343</td>\n      <td>614</td>\n      <td>995</td>\n    </tr>\n    <tr>\n      <th>981</th>\n      <td>POLYGON ((539552.478 178604.042, 539533.000 17...</td>\n      <td>E02006930</td>\n      <td>396548</td>\n      <td>403596</td>\n      <td>421069</td>\n      <td>386279</td>\n      <td>491540</td>\n      <td>581988</td>\n      <td>Greenwich 037</td>\n      <td>513752</td>\n      <td>129</td>\n      <td>170</td>\n      <td>93</td>\n      <td>23</td>\n      <td>12</td>\n      <td>167</td>\n      <td>62</td>\n      <td>580</td>\n      <td>296</td>\n      <td>494</td>\n    </tr>\n    <tr>\n      <th>982</th>\n      <td>POLYGON ((538834.754 177736.770, 538880.250 17...</td>\n      <td>E02006931</td>\n      <td>534018</td>\n      <td>448321</td>\n      <td>543252</td>\n      <td>596664</td>\n      <td>681492</td>\n      <td>678250</td>\n      <td>Greenwich 038</td>\n      <td>643837</td>\n      <td>158</td>\n      <td>163</td>\n      <td>124</td>\n      <td>20</td>\n      <td>14</td>\n      <td>148</td>\n      <td>128</td>\n      <td>611</td>\n      <td>232</td>\n      <td>483</td>\n    </tr>\n  </tbody>\n</table>\n<p>983 rows × 20 columns</p>\n</div>"
     },
     "metadata": {},
     "execution_count": 100
    }
   ],
   "source": [
    "ppd"
   ]
  },
  {
   "cell_type": "code",
   "execution_count": 101,
   "metadata": {},
   "outputs": [
    {
     "output_type": "execute_result",
     "data": {
      "text/plain": [
       "<Projected CRS: PROJCS[\"OSGB 1936 / British National Grid\",GEOGCS[ ...>\n",
       "Name: OSGB 1936 / British National Grid\n",
       "Axis Info [cartesian]:\n",
       "- [east]: Easting (metre)\n",
       "- [north]: Northing (metre)\n",
       "Area of Use:\n",
       "- undefined\n",
       "Coordinate Operation:\n",
       "- name: unnamed\n",
       "- method: Transverse Mercator\n",
       "Datum: OSGB 1936\n",
       "- Ellipsoid: Airy 1830\n",
       "- Prime Meridian: Greenwich"
      ]
     },
     "metadata": {},
     "execution_count": 101
    }
   ],
   "source": [
    "ppd.crs"
   ]
  },
  {
   "cell_type": "code",
   "execution_count": 102,
   "metadata": {},
   "outputs": [],
   "source": [
    "ppd.to_file('./output/London_Housing_crime.shp',\n",
    "           driver='ESRI Shapefile',\n",
    "           encoding='utf-8')"
   ]
  },
  {
   "cell_type": "code",
   "execution_count": 103,
   "metadata": {},
   "outputs": [
    {
     "output_type": "execute_result",
     "data": {
      "text/plain": [
       "Value2011                               372641.584944\n",
       "Value2012                               396649.773143\n",
       "Value2013                               431201.346897\n",
       "Value2014                               499355.365209\n",
       "Value2015                               536904.321465\n",
       "Value2016                               577512.311292\n",
       "Value2017                               603715.492370\n",
       "Arson and Criminal Damage                  105.689725\n",
       "Burglary                                   135.376399\n",
       "Drug Offences                              104.216684\n",
       "Miscellaneous Crimes Against Society        21.968464\n",
       "Possession of Weapons                       13.135300\n",
       "Public Order Offences                      106.954222\n",
       "Robbery                                     62.781282\n",
       "Theft                                      396.088505\n",
       "Vehicle Offences                           230.894201\n",
       "Violence Against the Person                439.359105\n",
       "dtype: float64"
      ]
     },
     "metadata": {},
     "execution_count": 103
    }
   ],
   "source": [
    "ppd.mean()"
   ]
  }
 ]
}